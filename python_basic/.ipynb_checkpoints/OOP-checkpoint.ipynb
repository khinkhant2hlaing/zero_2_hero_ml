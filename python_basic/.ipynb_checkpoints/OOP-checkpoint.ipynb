{
 "cells": [
  {
   "cell_type": "markdown",
   "id": "693a551f",
   "metadata": {},
   "source": [
    "## Inheritance"
   ]
  },
  {
   "cell_type": "code",
   "execution_count": 13,
   "id": "58126239",
   "metadata": {},
   "outputs": [],
   "source": [
    "class Person():\n",
    "    def __init__(self,pid,name):\n",
    "        self.id = pid\n",
    "        self.name =name\n"
   ]
  },
  {
   "cell_type": "code",
   "execution_count": 15,
   "id": "9d0f7942",
   "metadata": {},
   "outputs": [],
   "source": [
    "class Student(Person):\n",
    "    def __init__(self,stu_id,stu_name):\n",
    "        super().__init__(stu_id,stu_name)\n",
    "        self.stu_class =  stu_class\n",
    "        "
   ]
  },
  {
   "cell_type": "code",
   "execution_count": 18,
   "id": "89e288bc",
   "metadata": {},
   "outputs": [],
   "source": [
    "class Teacher(Person):\n",
    "    def __init__(self,tr_id, tr_name):\n",
    "        super().__init__(tr_id,tr_name)\n",
    "        self.tr_class = []\n",
    "    \n",
    "    \n",
    "    def registerClass(className:str):\n",
    "        self.tr_class.append(className)"
   ]
  },
  {
   "cell_type": "code",
   "execution_count": 19,
   "id": "1140130f",
   "metadata": {},
   "outputs": [
    {
     "ename": "TypeError",
     "evalue": "Student.__init__() missing 1 required positional argument: 'stu_class'",
     "output_type": "error",
     "traceback": [
      "\u001b[0;31m---------------------------------------------------------------------------\u001b[0m",
      "\u001b[0;31mTypeError\u001b[0m                                 Traceback (most recent call last)",
      "Input \u001b[0;32mIn [19]\u001b[0m, in \u001b[0;36m<cell line: 1>\u001b[0;34m()\u001b[0m\n\u001b[0;32m----> 1\u001b[0m student1 \u001b[38;5;241m=\u001b[39m \u001b[43mStudent\u001b[49m\u001b[43m(\u001b[49m\u001b[38;5;124;43m'\u001b[39;49m\u001b[38;5;124;43mstu_001\u001b[39;49m\u001b[38;5;124;43m'\u001b[39;49m\u001b[43m,\u001b[49m\u001b[38;5;124;43m'\u001b[39;49m\u001b[38;5;124;43mMg Kyaw\u001b[39;49m\u001b[38;5;124;43m'\u001b[39;49m\u001b[43m)\u001b[49m\n",
      "\u001b[0;31mTypeError\u001b[0m: Student.__init__() missing 1 required positional argument: 'stu_class'"
     ]
    }
   ],
   "source": [
    "student1 = Student('stu_001','Mg Kyaw','')\n"
   ]
  },
  {
   "cell_type": "markdown",
   "id": "3e5ec422",
   "metadata": {},
   "source": [
    "## Polymorphism"
   ]
  },
  {
   "cell_type": "code",
   "execution_count": 2,
   "id": "eed2cbea",
   "metadata": {},
   "outputs": [],
   "source": [
    "class India():\n",
    "    def capital(self):\n",
    "        print(\"New Delhi is the capital of India.\")\n",
    "  \n",
    "    def language(self):\n",
    "        print(\"Hindi is the most widely spoken language of India.\")\n",
    "  \n",
    "    def type(self):\n",
    "        print(\"India is a developing country.\")\n",
    "\n",
    "class USA():\n",
    "    def capital(self):\n",
    "        print(\"Washington, D.C. is the capital of USA.\")\n",
    "  \n",
    "    def language(self):\n",
    "        print(\"English is the primary language of USA.\")\n",
    "  \n",
    "    def type(self):\n",
    "        print(\"USA is a developed country.\")"
   ]
  },
  {
   "cell_type": "code",
   "execution_count": 9,
   "id": "20823e18",
   "metadata": {},
   "outputs": [],
   "source": [
    "def obj_func(obj):\n",
    "    obj.language()"
   ]
  },
  {
   "cell_type": "code",
   "execution_count": 10,
   "id": "da135c5e",
   "metadata": {},
   "outputs": [],
   "source": [
    "india = India()\n",
    "usa = USA()"
   ]
  },
  {
   "cell_type": "code",
   "execution_count": 12,
   "id": "7d4fffda",
   "metadata": {},
   "outputs": [
    {
     "name": "stdout",
     "output_type": "stream",
     "text": [
      "Hindi is the most widely spoken language of India.\n",
      "English is the primary language of USA.\n"
     ]
    }
   ],
   "source": [
    "obj_func(india)\n",
    "obj_func(usa)"
   ]
  },
  {
   "cell_type": "code",
   "execution_count": null,
   "id": "b4d3a7c5",
   "metadata": {},
   "outputs": [],
   "source": []
  }
 ],
 "metadata": {
  "kernelspec": {
   "display_name": "Python 3 (ipykernel)",
   "language": "python",
   "name": "python3"
  },
  "language_info": {
   "codemirror_mode": {
    "name": "ipython",
    "version": 3
   },
   "file_extension": ".py",
   "mimetype": "text/x-python",
   "name": "python",
   "nbconvert_exporter": "python",
   "pygments_lexer": "ipython3",
   "version": "3.10.4"
  }
 },
 "nbformat": 4,
 "nbformat_minor": 5
}
