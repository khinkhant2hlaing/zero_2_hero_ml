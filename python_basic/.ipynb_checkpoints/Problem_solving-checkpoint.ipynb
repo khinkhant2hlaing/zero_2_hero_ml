{
 "cells": [
  {
   "cell_type": "code",
   "execution_count": 8,
   "id": "2836f17a",
   "metadata": {},
   "outputs": [],
   "source": [
    "import numpy as np"
   ]
  },
  {
   "cell_type": "code",
   "execution_count": 9,
   "id": "a45838b8",
   "metadata": {},
   "outputs": [],
   "source": [
    "#!pip install numpy"
   ]
  },
  {
   "cell_type": "code",
   "execution_count": null,
   "id": "64838b26",
   "metadata": {},
   "outputs": [],
   "source": []
  },
  {
   "cell_type": "code",
   "execution_count": 5,
   "id": "dc570cec",
   "metadata": {},
   "outputs": [],
   "source": [
    "class item:\n",
    "    def __init__(self,item_id:str,name : str, qr_code : str,price:int,buying_price:int, categories_id :str):\n",
    "        self.name = name\n",
    "        self.id =  item_id\n",
    "        self.qr_code=  qr_code\n",
    "        self.price = price\n",
    "        self.buying_price = buying_price\n",
    "        self.categories_id = categories_id\n",
    "        \n",
    "    \n",
    "    def getProfic(self):\n",
    "        return int(self.price - self.buying_price)\n",
    "        \n",
    "        "
   ]
  },
  {
   "cell_type": "code",
   "execution_count": 33,
   "id": "9fbb5c47",
   "metadata": {},
   "outputs": [],
   "source": [
    "class Categories:\n",
    "    def __init__(self,cat_id, cat_name):\n",
    "        self.id = cat_id\n",
    "        self.name = cat_name\n",
    "        self.items_obj = []\n",
    "        \n",
    "    def addItem(self,item : item):\n",
    "        self.items_obj.append(item)\n",
    "        \n",
    "    def getProfic(self):\n",
    "        profices = []\n",
    "        for i_item in self.items_obj:\n",
    "            profices.append(i_item.getProfic())\n",
    "            \n",
    "            \n",
    "            \n",
    "        return int(np.sum(profices))\n",
    "        "
   ]
  },
  {
   "cell_type": "code",
   "execution_count": 34,
   "id": "c3e80e2c",
   "metadata": {},
   "outputs": [],
   "source": [
    "cat1 = Categories('cat_001','coffee')"
   ]
  },
  {
   "cell_type": "code",
   "execution_count": 35,
   "id": "575c7aa5",
   "metadata": {},
   "outputs": [],
   "source": [
    "#(self,item_id:str,name : str, qr_code : str,price:int,buying_price:int, categories_id :str)\n",
    "i1 = item ('i_001','super_coffee',\"0000\",3900,3500,'cat_001')\n",
    "i2 = item ('i_002','sunday_coffee',\"0000\",3450,3000,'cat_001')"
   ]
  },
  {
   "cell_type": "code",
   "execution_count": 36,
   "id": "c9bbdd41",
   "metadata": {},
   "outputs": [],
   "source": [
    "cat1.addItem(i1)\n",
    "cat1.addItem(i2)\n"
   ]
  },
  {
   "cell_type": "code",
   "execution_count": 37,
   "id": "b119d189",
   "metadata": {},
   "outputs": [
    {
     "name": "stdout",
     "output_type": "stream",
     "text": [
      "400\n",
      "450\n"
     ]
    }
   ],
   "source": [
    "print(i1.getProfic())\n",
    "print(i2.getProfic())"
   ]
  },
  {
   "cell_type": "code",
   "execution_count": 38,
   "id": "1323fa20",
   "metadata": {},
   "outputs": [
    {
     "data": {
      "text/plain": [
       "850"
      ]
     },
     "execution_count": 38,
     "metadata": {},
     "output_type": "execute_result"
    }
   ],
   "source": [
    "cat1.getProfic()"
   ]
  },
  {
   "cell_type": "markdown",
   "id": "5ac547eb",
   "metadata": {},
   "source": [
    "## Create Customer"
   ]
  },
  {
   "cell_type": "code",
   "execution_count": 44,
   "id": "21aa8d37",
   "metadata": {},
   "outputs": [],
   "source": [
    "class CustomerType:\n",
    "    def __init__(self,type_id,type_name):\n",
    "        self.id = type_id\n",
    "        self.name = type_name\n",
    "        \n",
    "    "
   ]
  },
  {
   "cell_type": "code",
   "execution_count": 45,
   "id": "cf43fcab",
   "metadata": {},
   "outputs": [],
   "source": [
    "class Customer:\n",
    "    def __init__(self,cu_id:str,cu_name : str,type_obj:CustomerType):\n",
    "        self.id = cu_id\n",
    "        self.name = cu_name\n",
    "        self.type = type_obj"
   ]
  },
  {
   "cell_type": "code",
   "execution_count": 46,
   "id": "61bb7072",
   "metadata": {},
   "outputs": [],
   "source": [
    "c1_type = CustomerType('type_001','normal')\n",
    "c2_type = CustomerType('type_001','retail')\n"
   ]
  },
  {
   "cell_type": "code",
   "execution_count": 47,
   "id": "864cbc6e",
   "metadata": {},
   "outputs": [],
   "source": [
    "mgmg = Customer('cu_0001','mgmg',c1_type)\n",
    "aungaung = Customer('cu_0002','aungaung',c2_type)"
   ]
  },
  {
   "cell_type": "code",
   "execution_count": null,
   "id": "13d96a20",
   "metadata": {},
   "outputs": [],
   "source": []
  },
  {
   "cell_type": "markdown",
   "id": "4a1d2bf0",
   "metadata": {},
   "source": [
    "## Record and Invoice"
   ]
  },
  {
   "cell_type": "code",
   "execution_count": 81,
   "id": "bfba0c2c",
   "metadata": {},
   "outputs": [],
   "source": [
    "class Record:\n",
    "    def __init__(self,record_id,date,customer_id):\n",
    "        self.id = record_id\n",
    "        self.date = date\n",
    "        self.customer_id =customer_id\n",
    "    \n",
    "        self.items = []\n",
    "        self.categoreis = []\n",
    "        self.profic = []\n",
    "    \n",
    "    def addItems(self,item : item):\n",
    "        self.items.append(item)\n",
    "        \n",
    "        \n",
    "    def getProficPerCategories(self):\n",
    "        dist_categories = set()\n",
    "        for i_item in self.items:\n",
    "            cat_id = i_item.categories_id\n",
    "            dist_categories.add(cat_id)\n",
    "        \n",
    "        for cat_id in dist_categories:\n",
    "            self.categoreis.append(cat_id)\n",
    "            profice_list = []\n",
    "            for i_item in self.items:\n",
    "                if i_item.categories_id == cat_id:\n",
    "                    profice_list.append(i_item.getProfic())\n",
    "            \n",
    "            \n",
    "            #print(cat_id,np.sum(profice_list) )\n",
    "            self.profic.append(np.sum(profice_list) )\n",
    "            \n",
    "        "
   ]
  },
  {
   "cell_type": "code",
   "execution_count": 87,
   "id": "241ffb65",
   "metadata": {},
   "outputs": [],
   "source": [
    "i1 = item ('i_001','super_coffee',\"0000\",3900,3500,'cat_001')\n",
    "i2 = item ('i_002','sunday_coffee',\"0000\",3450,3000,'cat_001')\n",
    "\n",
    "i3 = item ('i_003','ABC',\"0000\",3900,3700,'cat_002')\n",
    "i4 = item ('i_004','Tiger',\"0000\",3700,3000,'cat_002')\n",
    "\n",
    "\n"
   ]
  },
  {
   "cell_type": "code",
   "execution_count": 88,
   "id": "84023957",
   "metadata": {},
   "outputs": [],
   "source": [
    "r1 = Record('r_001','4-6-2022',mgmg.name)\n",
    "r1.addItems(i1)\n",
    "r1.addItems(i3)\n",
    "r1.addItems(i2)\n"
   ]
  },
  {
   "cell_type": "code",
   "execution_count": 89,
   "id": "ad3e6869",
   "metadata": {},
   "outputs": [
    {
     "data": {
      "text/plain": [
       "['cat_002', 'cat_001']"
      ]
     },
     "execution_count": 89,
     "metadata": {},
     "output_type": "execute_result"
    }
   ],
   "source": [
    "r1.getProficPerCategories()\n",
    "r1.categoreis"
   ]
  },
  {
   "cell_type": "code",
   "execution_count": 91,
   "id": "3a2420b3",
   "metadata": {},
   "outputs": [
    {
     "data": {
      "text/plain": [
       "[200, 850]"
      ]
     },
     "execution_count": 91,
     "metadata": {},
     "output_type": "execute_result"
    }
   ],
   "source": [
    "r1.profic"
   ]
  },
  {
   "cell_type": "code",
   "execution_count": 90,
   "id": "4366055c",
   "metadata": {},
   "outputs": [],
   "source": [
    "r2 = Record('r_002','4-6-2022',aungaung.name)\n",
    "r2.addItems(i1)\n",
    "r2.addItems(i3)\n",
    "r2.addItems(i2)\n",
    "r2.addItems(i4)\n",
    "r2.getProficPerCategories()"
   ]
  },
  {
   "cell_type": "code",
   "execution_count": 107,
   "id": "c4b1be36",
   "metadata": {},
   "outputs": [
    {
     "data": {
      "text/plain": [
       "['cat_002', 'cat_001']"
      ]
     },
     "execution_count": 107,
     "metadata": {},
     "output_type": "execute_result"
    }
   ],
   "source": [
    "r2.categoreis"
   ]
  },
  {
   "cell_type": "code",
   "execution_count": 108,
   "id": "668d82f3",
   "metadata": {},
   "outputs": [
    {
     "data": {
      "text/plain": [
       "[900, 850]"
      ]
     },
     "execution_count": 108,
     "metadata": {},
     "output_type": "execute_result"
    }
   ],
   "source": [
    "r2.profic"
   ]
  },
  {
   "cell_type": "code",
   "execution_count": 109,
   "id": "cd82bba1",
   "metadata": {},
   "outputs": [],
   "source": [
    "class Invoic:\n",
    "    def __init__(self,in_id,created_date):\n",
    "        self.id = in_id\n",
    "        self.date = created_date\n",
    "        self.records = []\n",
    "        \n",
    "    def addRecords(self,record):\n",
    "        self.records.append(record)\n",
    "        \n",
    "    def getProficPerCategories(self):\n",
    "        dist_categories = set()\n",
    "        for i_record in self.records:\n",
    "            for cat_id in i_record.categoreis:\n",
    "                dist_categories.add(cat_id)\n",
    "                \n",
    "        record_profic_dict = {}\n",
    "        for cat_id in dist_categories:\n",
    "            record_profic_dict[cat_id] = 0\n",
    "            for i_record in self.records:\n",
    "                for record_cat,record_profic in zip(i_record.categoreis,i_record.profic):\n",
    "                    if cat_id == record_cat:\n",
    "                        record_profic_dict[cat_id] = record_profic_dict[cat_id]+record_profic\n",
    "        print(record_profic_dict)\n",
    "\n",
    "            "
   ]
  },
  {
   "cell_type": "code",
   "execution_count": 106,
   "id": "b5f7ef8a",
   "metadata": {},
   "outputs": [
    {
     "name": "stdout",
     "output_type": "stream",
     "text": [
      "{'cat_002': 1100, 'cat_001': 1700}\n"
     ]
    }
   ],
   "source": [
    "invoice = Invoic('INV001','4-6-2022')\n",
    "invoice.addRecords(r1)\n",
    "invoice.addRecords(r2)\n",
    "invoice.getProficPerCategories()"
   ]
  },
  {
   "cell_type": "code",
   "execution_count": null,
   "id": "0f69d583",
   "metadata": {},
   "outputs": [],
   "source": []
  }
 ],
 "metadata": {
  "kernelspec": {
   "display_name": "Python 3 (ipykernel)",
   "language": "python",
   "name": "python3"
  },
  "language_info": {
   "codemirror_mode": {
    "name": "ipython",
    "version": 3
   },
   "file_extension": ".py",
   "mimetype": "text/x-python",
   "name": "python",
   "nbconvert_exporter": "python",
   "pygments_lexer": "ipython3",
   "version": "3.10.4"
  }
 },
 "nbformat": 4,
 "nbformat_minor": 5
}
