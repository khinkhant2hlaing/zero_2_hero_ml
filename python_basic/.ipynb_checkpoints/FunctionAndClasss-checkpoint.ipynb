{
 "cells": [
  {
   "cell_type": "markdown",
   "id": "fad6e005",
   "metadata": {},
   "source": [
    "### Function\n",
    "- function name must verb \n",
    "- Args must be in nouns"
   ]
  },
  {
   "cell_type": "code",
   "execution_count": 8,
   "id": "b410deef",
   "metadata": {},
   "outputs": [],
   "source": [
    "def addTwoNumber(num1,num2):\n",
    "    total = num1+num2\n",
    "    return (total)"
   ]
  },
  {
   "cell_type": "code",
   "execution_count": 10,
   "id": "530812f7",
   "metadata": {},
   "outputs": [
    {
     "name": "stdout",
     "output_type": "stream",
     "text": [
      "50\n"
     ]
    }
   ],
   "source": [
    "num1 = 30\n",
    "num2 = 20\n",
    "print(addTwoNumber(num1, num2))"
   ]
  },
  {
   "cell_type": "code",
   "execution_count": 22,
   "id": "7e8b19d7",
   "metadata": {},
   "outputs": [],
   "source": [
    "def calReturnAmount(initAmount, rate, numOfDays):\n",
    "    \n",
    "    payRollAmount = initAmount\n",
    "    for i in range(1,numOfDays+1,1):\n",
    "        increateRate =  (rate/100)*payRollAmount\n",
    "        out_str = \"Increate Rate of \"+str(i)+\"-month: \"+str(increateRate)\n",
    "        payRollAmount = increateRate+payRollAmount\n",
    "           \n",
    "    return int(payRollAmount)\n",
    "        "
   ]
  },
  {
   "cell_type": "code",
   "execution_count": 24,
   "id": "7c308a60",
   "metadata": {},
   "outputs": [
    {
     "data": {
      "text/plain": [
       "325778"
      ]
     },
     "execution_count": 24,
     "metadata": {},
     "output_type": "execute_result"
    }
   ],
   "source": [
    "initAmount = 200000\n",
    "rate = 5\n",
    "numOfDays = 10\n",
    "calReturnAmount(initAmount, rate, numOfDays)"
   ]
  },
  {
   "cell_type": "code",
   "execution_count": 27,
   "id": "aeb72f32",
   "metadata": {},
   "outputs": [],
   "source": [
    "def calReturnAmountRecord(initAmount, rate, numOfDays):\n",
    "    \n",
    "\n",
    "    pay_list = {}\n",
    "    payRollAmount = initAmount\n",
    "    for i in range(1,numOfDays+1,1):\n",
    "        increateRate =  (rate/100)*payRollAmount\n",
    "        out_str = \"Increate Rate of \"+str(i)+\"-month: \"+str(increateRate)\n",
    "        payRollAmount = increateRate+payRollAmount\n",
    "        key = str(i)+\"-month\"\n",
    "        pay_list[key] = int(payRollAmount)\n",
    "    \n",
    "    return pay_list\n",
    "        "
   ]
  },
  {
   "cell_type": "code",
   "execution_count": 29,
   "id": "7e07eb12",
   "metadata": {},
   "outputs": [
    {
     "name": "stdout",
     "output_type": "stream",
     "text": [
      "1-month 210000\n",
      "2-month 220500\n",
      "3-month 231525\n",
      "4-month 243101\n",
      "5-month 255256\n",
      "6-month 268019\n",
      "7-month 281420\n",
      "8-month 295491\n",
      "9-month 310265\n",
      "10-month 325778\n"
     ]
    }
   ],
   "source": [
    "initAmount = 200000\n",
    "rate = 5\n",
    "numOfDays = 10\n",
    "for key,value in calReturnAmountRecord(initAmount, rate, numOfDays).items():\n",
    "    print(key, value)"
   ]
  },
  {
   "cell_type": "markdown",
   "id": "56b6d6e7",
   "metadata": {},
   "source": [
    "3\n",
    "3, 2,1 = 6\n",
    "\n",
    "4\n",
    "4,3,2,1=24\n",
    "\n",
    "5\n",
    "5,4,3,2,1,=120\n",
    "\n",
    "\n",
    "4 * ->6 = 24\n",
    "    3 * ->2 = 6\n",
    "        2 * -> 1 = 2\n",
    "            1"
   ]
  },
  {
   "cell_type": "code",
   "execution_count": 43,
   "id": "25dc1bcc",
   "metadata": {},
   "outputs": [],
   "source": [
    "def calFibio(key):\n",
    "    result = 1\n",
    "    index = key\n",
    "    while index > 0:\n",
    "        result = result * index\n",
    "        index = index -1\n",
    "        \n",
    "    return result"
   ]
  },
  {
   "cell_type": "code",
   "execution_count": 54,
   "id": "6aa3ba91",
   "metadata": {},
   "outputs": [],
   "source": [
    "def calFibio_1(key):\n",
    "    \n",
    "    if key < 1:\n",
    "        return 1\n",
    "    else:\n",
    "        return key*calFibio_1(key-1)\n",
    "    \n",
    "    \n"
   ]
  },
  {
   "cell_type": "code",
   "execution_count": 55,
   "id": "f7b1b019",
   "metadata": {},
   "outputs": [
    {
     "name": "stdout",
     "output_type": "stream",
     "text": [
      "24\n"
     ]
    }
   ],
   "source": [
    "result = calFibio_1(4)\n",
    "print(result)"
   ]
  },
  {
   "cell_type": "code",
   "execution_count": 56,
   "id": "860f6a96",
   "metadata": {},
   "outputs": [
    {
     "name": "stdout",
     "output_type": "stream",
     "text": [
      "120\n"
     ]
    }
   ],
   "source": [
    "result = calFibio(5)\n",
    "print(result)"
   ]
  },
  {
   "cell_type": "code",
   "execution_count": null,
   "id": "ea3a67de",
   "metadata": {},
   "outputs": [],
   "source": []
  }
 ],
 "metadata": {
  "kernelspec": {
   "display_name": "Python 3 (ipykernel)",
   "language": "python",
   "name": "python3"
  },
  "language_info": {
   "codemirror_mode": {
    "name": "ipython",
    "version": 3
   },
   "file_extension": ".py",
   "mimetype": "text/x-python",
   "name": "python",
   "nbconvert_exporter": "python",
   "pygments_lexer": "ipython3",
   "version": "3.10.4"
  }
 },
 "nbformat": 4,
 "nbformat_minor": 5
}
