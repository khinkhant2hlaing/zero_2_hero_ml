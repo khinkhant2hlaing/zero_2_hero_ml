{
 "cells": [
  {
   "cell_type": "markdown",
   "id": "58b184b2",
   "metadata": {},
   "source": [
    "## Inheritance"
   ]
  },
  {
   "cell_type": "code",
   "execution_count": 13,
   "id": "ef05947e",
   "metadata": {},
   "outputs": [],
   "source": [
    "class Person():\n",
    "    def __init__(self,pid,name):\n",
    "        self.id = pid\n",
    "        self.name =name\n"
   ]
  },
  {
   "cell_type": "code",
   "execution_count": 20,
   "id": "03548a58",
   "metadata": {},
   "outputs": [],
   "source": [
    "class Student(Person):\n",
    "    def __init__(self,stu_id,stu_name):\n",
    "        super().__init__(stu_id,stu_name)\n",
    "        self.stu_class =  None\n",
    "        \n",
    "        \n",
    "    def setClass(className:str):\n",
    "        self.stu_class = className\n",
    "        "
   ]
  },
  {
   "cell_type": "code",
   "execution_count": 21,
   "id": "99c4f7bf",
   "metadata": {},
   "outputs": [],
   "source": [
    "class Teacher(Person):\n",
    "    def __init__(self,tr_id, tr_name):\n",
    "        super().__init__(tr_id,tr_name)\n",
    "        self.tr_class = []\n",
    "    \n",
    "    \n",
    "    def registerClass(className:str):\n",
    "        self.tr_class.append(className)"
   ]
  },
  {
   "cell_type": "code",
   "execution_count": 24,
   "id": "c5b49aa5",
   "metadata": {},
   "outputs": [],
   "source": [
    "student1 = Student('stu_001','Mg Kyaw')\n",
    "teacher1 = Teacher('tr_001',\"Tr Mon\")"
   ]
  },
  {
   "cell_type": "code",
   "execution_count": 28,
   "id": "e45efb04",
   "metadata": {},
   "outputs": [
    {
     "name": "stdout",
     "output_type": "stream",
     "text": [
      "<__main__.Student object at 0x7fe0d4c7ef50>\n",
      "Mg Kyaw\n"
     ]
    }
   ],
   "source": [
    "print(student1)\n",
    "print(student1.name)"
   ]
  },
  {
   "cell_type": "code",
   "execution_count": 27,
   "id": "a9a77ca3",
   "metadata": {},
   "outputs": [
    {
     "name": "stdout",
     "output_type": "stream",
     "text": [
      "<__main__.Teacher object at 0x7fe0d4c7dde0>\n"
     ]
    }
   ],
   "source": [
    "print(teacher1)"
   ]
  },
  {
   "cell_type": "code",
   "execution_count": null,
   "id": "81c532a3",
   "metadata": {},
   "outputs": [],
   "source": []
  },
  {
   "cell_type": "markdown",
   "id": "fc46e337",
   "metadata": {},
   "source": [
    "## Polymorphism"
   ]
  },
  {
   "cell_type": "code",
   "execution_count": 2,
   "id": "690a4ca8",
   "metadata": {},
   "outputs": [],
   "source": [
    "class India():\n",
    "    def capital(self):\n",
    "        print(\"New Delhi is the capital of India.\")\n",
    "  \n",
    "    def language(self):\n",
    "        print(\"Hindi is the most widely spoken language of India.\")\n",
    "  \n",
    "    def type(self):\n",
    "        print(\"India is a developing country.\")\n",
    "\n",
    "class USA():\n",
    "    def capital(self):\n",
    "        print(\"Washington, D.C. is the capital of USA.\")\n",
    "  \n",
    "    def language(self):\n",
    "        print(\"English is the primary language of USA.\")\n",
    "  \n",
    "    def type(self):\n",
    "        print(\"USA is a developed country.\")"
   ]
  },
  {
   "cell_type": "code",
   "execution_count": 9,
   "id": "2b55601e",
   "metadata": {},
   "outputs": [],
   "source": [
    "def obj_func(obj):\n",
    "    obj.language()"
   ]
  },
  {
   "cell_type": "code",
   "execution_count": 10,
   "id": "d914efdc",
   "metadata": {},
   "outputs": [],
   "source": [
    "india = India()\n",
    "usa = USA()"
   ]
  },
  {
   "cell_type": "code",
   "execution_count": 12,
   "id": "8c1b9a43",
   "metadata": {},
   "outputs": [
    {
     "name": "stdout",
     "output_type": "stream",
     "text": [
      "Hindi is the most widely spoken language of India.\n",
      "English is the primary language of USA.\n"
     ]
    }
   ],
   "source": [
    "obj_func(india)\n",
    "obj_func(usa)"
   ]
  },
  {
   "cell_type": "code",
   "execution_count": null,
   "id": "37d05f62",
   "metadata": {},
   "outputs": [],
   "source": []
  }
 ],
 "metadata": {
  "kernelspec": {
   "display_name": "Python 3 (ipykernel)",
   "language": "python",
   "name": "python3"
  },
  "language_info": {
   "codemirror_mode": {
    "name": "ipython",
    "version": 3
   },
   "file_extension": ".py",
   "mimetype": "text/x-python",
   "name": "python",
   "nbconvert_exporter": "python",
   "pygments_lexer": "ipython3",
   "version": "3.10.4"
  }
 },
 "nbformat": 4,
 "nbformat_minor": 5
}
