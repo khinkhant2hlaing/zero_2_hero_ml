{
 "cells": [
  {
   "cell_type": "markdown",
   "id": "cb4888a6",
   "metadata": {},
   "source": [
    "## Inheritance (အမွေဆက်ခံ)"
   ]
  },
  {
   "cell_type": "code",
   "execution_count": 1,
   "id": "3f6bcbd5",
   "metadata": {},
   "outputs": [],
   "source": [
    "class Person():\n",
    "    def __init__(self,pid,name):\n",
    "        self.id = pid\n",
    "        self.name =name\n"
   ]
  },
  {
   "cell_type": "code",
   "execution_count": 2,
   "id": "68a057a9",
   "metadata": {},
   "outputs": [],
   "source": [
    "class Student(Person):\n",
    "    def __init__(self,stu_id,stu_name):\n",
    "        super().__init__(stu_id,stu_name)\n",
    "        self.stu_class =  None\n",
    "        \n",
    "        \n",
    "        \n",
    "    def setClass(className:str):\n",
    "        self.stu_class = className\n",
    "        "
   ]
  },
  {
   "cell_type": "code",
   "execution_count": 3,
   "id": "76739bda",
   "metadata": {},
   "outputs": [],
   "source": [
    "class Teacher(Person):\n",
    "    def __init__(self,tr_id, tr_name):\n",
    "        super().__init__(tr_id,tr_name)\n",
    "        self.tr_class = []\n",
    "    \n",
    "    \n",
    "    def registerClass(className:str):\n",
    "        self.tr_class.append(className)"
   ]
  },
  {
   "cell_type": "code",
   "execution_count": 4,
   "id": "175e9a0a",
   "metadata": {},
   "outputs": [],
   "source": [
    "student1 = Student('stu_001','Mg Kyaw')\n",
    "teacher1 = Teacher('tr_001',\"Tr Mon\")"
   ]
  },
  {
   "cell_type": "code",
   "execution_count": 5,
   "id": "9d73e7f0",
   "metadata": {},
   "outputs": [
    {
     "name": "stdout",
     "output_type": "stream",
     "text": [
      "<__main__.Student object at 0x7f85db92ba90>\n",
      "Mg Kyaw\n",
      "stu_001\n"
     ]
    }
   ],
   "source": [
    "print(student1)\n",
    "print(student1.name)\n",
    "print(student1.id)"
   ]
  },
  {
   "cell_type": "code",
   "execution_count": 29,
   "id": "65c021d9",
   "metadata": {},
   "outputs": [
    {
     "name": "stdout",
     "output_type": "stream",
     "text": [
      "<__main__.Teacher object at 0x7fe0d4c7dde0>\n",
      "Tr Mon\n"
     ]
    }
   ],
   "source": [
    "print(teacher1)\n",
    "print(teacher1.name)"
   ]
  },
  {
   "cell_type": "code",
   "execution_count": null,
   "id": "fb4fad1d",
   "metadata": {},
   "outputs": [],
   "source": []
  },
  {
   "cell_type": "code",
   "execution_count": 21,
   "id": "748da474",
   "metadata": {},
   "outputs": [],
   "source": [
    "class Car:\n",
    "    def __init__(self,license,epower, price):\n",
    "        self.license = license\n",
    "        self.engine_power = epower\n",
    "        self.price = price\n",
    "        self.tax = 5\n",
    "        \n",
    "    def calTax(self):\n",
    "        tax = 5 \n",
    "        return int((tax/100) * self.price)\n",
    "        "
   ]
  },
  {
   "cell_type": "code",
   "execution_count": 29,
   "id": "e67b7170",
   "metadata": {},
   "outputs": [],
   "source": [
    "class ligthTruck(Car):\n",
    "    def __init__(self,license):\n",
    "        self.country =  \"Mya\"\n",
    "        super().__init__(license,\"v80\",2000)\n",
    "        \n",
    "        \n"
   ]
  },
  {
   "cell_type": "code",
   "execution_count": 30,
   "id": "3c76c555",
   "metadata": {},
   "outputs": [],
   "source": [
    "class minLightTruck(ligthTruck):\n",
    "    def __init__(self,license):\n",
    "        super().__init__(license)"
   ]
  },
  {
   "cell_type": "code",
   "execution_count": 31,
   "id": "910bbd85",
   "metadata": {},
   "outputs": [
    {
     "data": {
      "text/plain": [
       "5"
      ]
     },
     "execution_count": 31,
     "metadata": {},
     "output_type": "execute_result"
    }
   ],
   "source": [
    "light = ligthTruck(\"001\")\n",
    "light.tax"
   ]
  },
  {
   "cell_type": "code",
   "execution_count": 33,
   "id": "92744801",
   "metadata": {},
   "outputs": [
    {
     "data": {
      "text/plain": [
       "['__class__',\n",
       " '__delattr__',\n",
       " '__dict__',\n",
       " '__dir__',\n",
       " '__doc__',\n",
       " '__eq__',\n",
       " '__format__',\n",
       " '__ge__',\n",
       " '__getattribute__',\n",
       " '__gt__',\n",
       " '__hash__',\n",
       " '__init__',\n",
       " '__init_subclass__',\n",
       " '__le__',\n",
       " '__lt__',\n",
       " '__module__',\n",
       " '__ne__',\n",
       " '__new__',\n",
       " '__reduce__',\n",
       " '__reduce_ex__',\n",
       " '__repr__',\n",
       " '__setattr__',\n",
       " '__sizeof__',\n",
       " '__str__',\n",
       " '__subclasshook__',\n",
       " '__weakref__',\n",
       " 'calTax',\n",
       " 'country',\n",
       " 'engine_power',\n",
       " 'license',\n",
       " 'price',\n",
       " 'tax']"
      ]
     },
     "execution_count": 33,
     "metadata": {},
     "output_type": "execute_result"
    }
   ],
   "source": [
    "minlight1 = minLightTruck(\"002\")\n",
    "dir(minlight1)"
   ]
  },
  {
   "cell_type": "code",
   "execution_count": null,
   "id": "ab41bd0f",
   "metadata": {},
   "outputs": [],
   "source": []
  },
  {
   "cell_type": "code",
   "execution_count": null,
   "id": "d041d8a8",
   "metadata": {},
   "outputs": [],
   "source": []
  },
  {
   "cell_type": "code",
   "execution_count": null,
   "id": "c8605df2",
   "metadata": {},
   "outputs": [],
   "source": []
  },
  {
   "cell_type": "code",
   "execution_count": null,
   "id": "9de6458e",
   "metadata": {},
   "outputs": [],
   "source": []
  },
  {
   "cell_type": "markdown",
   "id": "672baba8",
   "metadata": {},
   "source": [
    "## Polymorphism"
   ]
  },
  {
   "cell_type": "code",
   "execution_count": 42,
   "id": "581d76b8",
   "metadata": {},
   "outputs": [],
   "source": [
    "class India():\n",
    "    def capital(self):\n",
    "        print(\"New Delhi is the capital of India.\")\n",
    "  \n",
    "    def language(self):\n",
    "        print(\"Hindi is the most widely spoken language of India.\")\n",
    "  \n",
    "    def type(self):\n",
    "        print(\"India is a developing country.\")\n",
    "        \n",
    "    \n",
    "\n",
    "class USA():\n",
    "    def capital(self):\n",
    "        print(\"Washington, D.C. is the capital of USA.\")\n",
    "  \n",
    "    def language(self):\n",
    "        print(\"English is the primary language of USA.\")\n",
    "  \n",
    "    def type(self):\n",
    "        print(\"USA is a developed country.\")"
   ]
  },
  {
   "cell_type": "code",
   "execution_count": 43,
   "id": "051dd2a4",
   "metadata": {},
   "outputs": [],
   "source": [
    "def obj_func(obj):\n",
    "    obj.language()"
   ]
  },
  {
   "cell_type": "code",
   "execution_count": 44,
   "id": "c4371f58",
   "metadata": {},
   "outputs": [],
   "source": [
    "india = India()\n",
    "usa = USA()"
   ]
  },
  {
   "cell_type": "code",
   "execution_count": 45,
   "id": "106c0ce2",
   "metadata": {},
   "outputs": [
    {
     "name": "stdout",
     "output_type": "stream",
     "text": [
      "<class '__main__.India'>\n",
      "Hindi is the most widely spoken language of India.\n",
      "<class '__main__.USA'>\n",
      "English is the primary language of USA.\n"
     ]
    }
   ],
   "source": [
    "print(type(india))\n",
    "obj_func(india)\n",
    "\n",
    "print(type(usa))\n",
    "obj_func(usa)"
   ]
  },
  {
   "cell_type": "code",
   "execution_count": null,
   "id": "56194b89",
   "metadata": {},
   "outputs": [],
   "source": []
  },
  {
   "cell_type": "code",
   "execution_count": 77,
   "id": "8c0fd0ef",
   "metadata": {},
   "outputs": [],
   "source": [
    "class Car:\n",
    "    def __init__(self,license,epower, price):\n",
    "        self.license = license\n",
    "        self.engine_power = epower\n",
    "        self.price = price\n",
    "    \n",
    "    def display(self):\n",
    "        str_out = \"This has \"+str(self.engine_power,)+ \" and cost : \"+str(self.price)\n",
    "        print(str_out)"
   ]
  },
  {
   "cell_type": "code",
   "execution_count": 78,
   "id": "06d15045",
   "metadata": {},
   "outputs": [],
   "source": [
    "class BMW(Car):\n",
    "    def __init__(self,license):\n",
    "        self.license = license\n",
    "        super().__init__(self.license, \"v90\",3000)\n",
    "        \n",
    "    def tax(self):\n",
    "        tax = 8\n",
    "        licenseCost = 2\n",
    "        \n",
    "        totalCost = (tax/100)*self.price + self.price\n",
    "        totalCost = (licenseCost/100)*self.price +  totalCost\n",
    "        return totalCost\n",
    "        "
   ]
  },
  {
   "cell_type": "code",
   "execution_count": 79,
   "id": "0995a1d9",
   "metadata": {},
   "outputs": [],
   "source": [
    "class LightTruck(Car):\n",
    "    def __init__(self,license):\n",
    "        self.license = license\n",
    "        super().__init__(self.license,\"v50\",1500)\n",
    "    \n",
    "    def tax(self):\n",
    "        tax = 5\n",
    "        \n",
    "        totalCost = (tax/100)*self.price + self.price\n",
    "        return totalCost"
   ]
  },
  {
   "cell_type": "code",
   "execution_count": 80,
   "id": "2b6e465d",
   "metadata": {},
   "outputs": [],
   "source": [
    "car1 = BMW(\"v001\")"
   ]
  },
  {
   "cell_type": "code",
   "execution_count": 81,
   "id": "7ac0dc2a",
   "metadata": {},
   "outputs": [],
   "source": [
    "car2 = LightTruck(\"L001\")"
   ]
  },
  {
   "cell_type": "code",
   "execution_count": 82,
   "id": "7bc9df8c",
   "metadata": {},
   "outputs": [],
   "source": [
    "cars = []\n",
    "cars.append(car1)\n",
    "cars.append(car2)"
   ]
  },
  {
   "cell_type": "code",
   "execution_count": 84,
   "id": "8e9f23d5",
   "metadata": {},
   "outputs": [
    {
     "name": "stdout",
     "output_type": "stream",
     "text": [
      "This has v90 and cost : 3000\n",
      "This has v50 and cost : 1500\n",
      "Total Cost : 4875.0\n"
     ]
    }
   ],
   "source": [
    "totalCost = 0 \n",
    "for car in cars:\n",
    "    car.display()\n",
    "    totalCost = car.tax()+totalCost\n",
    "print(\"Total Cost :\",totalCost)"
   ]
  },
  {
   "cell_type": "code",
   "execution_count": null,
   "id": "634e922c",
   "metadata": {},
   "outputs": [],
   "source": []
  },
  {
   "cell_type": "code",
   "execution_count": null,
   "id": "d47aeede",
   "metadata": {},
   "outputs": [],
   "source": []
  }
 ],
 "metadata": {
  "kernelspec": {
   "display_name": "Python 3 (ipykernel)",
   "language": "python",
   "name": "python3"
  },
  "language_info": {
   "codemirror_mode": {
    "name": "ipython",
    "version": 3
   },
   "file_extension": ".py",
   "mimetype": "text/x-python",
   "name": "python",
   "nbconvert_exporter": "python",
   "pygments_lexer": "ipython3",
   "version": "3.10.4"
  }
 },
 "nbformat": 4,
 "nbformat_minor": 5
}
