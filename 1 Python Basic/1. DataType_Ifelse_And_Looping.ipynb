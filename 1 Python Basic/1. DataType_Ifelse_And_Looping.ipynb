{
 "cells": [
  {
   "cell_type": "markdown",
   "id": "a84b2059",
   "metadata": {},
   "source": [
    "# Variable"
   ]
  },
  {
   "cell_type": "markdown",
   "id": "48c71732",
   "metadata": {},
   "source": [
    "### Variable Naming System\n",
    "- variable Name must be in Nouns\n",
    "- number in variable must in ended not front.\n",
    "- variable Name can know the data type"
   ]
  },
  {
   "cell_type": "code",
   "execution_count": 10,
   "id": "453976a1",
   "metadata": {},
   "outputs": [],
   "source": [
    "num1  = 20\n",
    "num1 = 20"
   ]
  },
  {
   "cell_type": "code",
   "execution_count": 12,
   "id": "44d49342",
   "metadata": {},
   "outputs": [
    {
     "name": "stdout",
     "output_type": "stream",
     "text": [
      "40\n"
     ]
    }
   ],
   "source": [
    "print(num1+num2)"
   ]
  },
  {
   "cell_type": "code",
   "execution_count": 17,
   "id": "f3364c33",
   "metadata": {},
   "outputs": [
    {
     "name": "stdout",
     "output_type": "stream",
     "text": [
      "<class 'str'>\n",
      "<class 'int'>\n"
     ]
    }
   ],
   "source": [
    "name =\"Thar Htet San\"\n",
    "print(type(name))\n",
    "yourname = 10\n",
    "print(type(yourname))"
   ]
  },
  {
   "cell_type": "markdown",
   "id": "51a6efa4",
   "metadata": {},
   "source": [
    "### Type of variable and bit rate\n",
    "- Interger (int)\n",
    "- Float (float)\n",
    "- String (str)"
   ]
  },
  {
   "cell_type": "code",
   "execution_count": 18,
   "id": "ad85f119",
   "metadata": {},
   "outputs": [],
   "source": [
    "yourNumber = 10000000000"
   ]
  },
  {
   "cell_type": "code",
   "execution_count": 19,
   "id": "39062a68",
   "metadata": {},
   "outputs": [],
   "source": [
    "yourNumber = 1000000000000000000"
   ]
  },
  {
   "cell_type": "code",
   "execution_count": 20,
   "id": "e9a0bcfc",
   "metadata": {},
   "outputs": [],
   "source": [
    "yourSkill = 9.199999999999\n",
    "yourSkill = 9.1999999999998888888888888 #bit rate -> 32 bits , 64-bits, 24-bits"
   ]
  },
  {
   "cell_type": "code",
   "execution_count": 21,
   "id": "e3f8df0e",
   "metadata": {},
   "outputs": [],
   "source": [
    "yourName = \"Gggggggggg\"\n",
    "yourName = \"GgggggggggGggggggggg\""
   ]
  },
  {
   "cell_type": "code",
   "execution_count": 22,
   "id": "213ad7cc",
   "metadata": {},
   "outputs": [
    {
     "name": "stdout",
     "output_type": "stream",
     "text": [
      "<class 'int'>\n",
      "<class 'float'>\n",
      "<class 'str'>\n"
     ]
    }
   ],
   "source": [
    "print(type(yourNumber))\n",
    "print(type(yourSkill))\n",
    "print(type(yourName))"
   ]
  },
  {
   "cell_type": "markdown",
   "id": "4088b0bb",
   "metadata": {},
   "source": [
    "### Variable Concat"
   ]
  },
  {
   "cell_type": "code",
   "execution_count": 25,
   "id": "c9a13c4e",
   "metadata": {},
   "outputs": [
    {
     "name": "stdout",
     "output_type": "stream",
     "text": [
      "ths9\n",
      "<class 'str'>\n"
     ]
    }
   ],
   "source": [
    "name =\"ths\"\n",
    "code = 9\n",
    "code_name = name+str(code)\n",
    "print(code_name)\n",
    "print(type(code_name))"
   ]
  },
  {
   "cell_type": "code",
   "execution_count": 28,
   "id": "5baae21d",
   "metadata": {},
   "outputs": [
    {
     "name": "stdout",
     "output_type": "stream",
     "text": [
      "81.0\n",
      "<class 'float'>\n"
     ]
    }
   ],
   "source": [
    "code= 9 \n",
    "skill_rate = 9.\n",
    "code_skill = code*skill_rate\n",
    "print(code_skill)\n",
    "print(type(code_skill))"
   ]
  },
  {
   "cell_type": "code",
   "execution_count": 32,
   "id": "0e0ebf48",
   "metadata": {},
   "outputs": [
    {
     "name": "stdout",
     "output_type": "stream",
     "text": [
      "<class 'str'>\n",
      "<class 'int'>\n"
     ]
    }
   ],
   "source": [
    "codeName = \"9\"\n",
    "print(type(codeName))\n",
    "codeName = int(codeName)\n",
    "print(type(codeName))"
   ]
  },
  {
   "cell_type": "code",
   "execution_count": null,
   "id": "9d427bb9",
   "metadata": {},
   "outputs": [],
   "source": []
  },
  {
   "cell_type": "markdown",
   "id": "a20bb8d2",
   "metadata": {},
   "source": [
    "# Operator\n",
    "- + add\n",
    "- - sub\n",
    "- * multi\n",
    "- / devide\n",
    "- % modu\n"
   ]
  },
  {
   "cell_type": "code",
   "execution_count": 35,
   "id": "94a6e3af",
   "metadata": {},
   "outputs": [
    {
     "name": "stdout",
     "output_type": "stream",
     "text": [
      "1\n",
      "10.1\n"
     ]
    }
   ],
   "source": [
    "num = 101\n",
    "print(num%10)\n",
    "print(num/10)"
   ]
  },
  {
   "cell_type": "markdown",
   "id": "7c7edbb0",
   "metadata": {},
   "source": [
    "# Condiction statement"
   ]
  },
  {
   "cell_type": "code",
   "execution_count": 9,
   "id": "8a830d13",
   "metadata": {},
   "outputs": [
    {
     "name": "stdout",
     "output_type": "stream",
     "text": [
      "pass with fly color\n"
     ]
    }
   ],
   "source": [
    "num = 81\n",
    "if num > 80:\n",
    "    print(\"pass with fly color\")\n",
    "else:\n",
    "    print(\"normal pass\")"
   ]
  },
  {
   "cell_type": "code",
   "execution_count": 22,
   "id": "c5fa0e5d",
   "metadata": {},
   "outputs": [],
   "source": [
    "mark = 35"
   ]
  },
  {
   "cell_type": "code",
   "execution_count": 25,
   "id": "a1274995",
   "metadata": {},
   "outputs": [
    {
     "name": "stdout",
     "output_type": "stream",
     "text": [
      "D\n"
     ]
    }
   ],
   "source": [
    "if mark > 80:\n",
    "    print(\"A\")\n",
    "else :\n",
    "    if mark > 60:\n",
    "        print(\"B\")\n",
    "    else:\n",
    "        if mark >40:\n",
    "            print(\"C\")\n",
    "        else:\n",
    "            if mark < 40:\n",
    "                print(\"D\")"
   ]
  },
  {
   "cell_type": "code",
   "execution_count": 26,
   "id": "ec08d2e9",
   "metadata": {},
   "outputs": [
    {
     "name": "stdout",
     "output_type": "stream",
     "text": [
      "D\n"
     ]
    }
   ],
   "source": [
    "if mark > 80:\n",
    "    print(\"A\")\n",
    "elif mark >60:\n",
    "    print(\"B\")\n",
    "elif mark > 40:\n",
    "    print(\"C\")\n",
    "elif mark <40:\n",
    "    print(\"D\")"
   ]
  },
  {
   "cell_type": "code",
   "execution_count": 17,
   "id": "3b857a3e",
   "metadata": {},
   "outputs": [],
   "source": [
    "mark1 = None"
   ]
  },
  {
   "cell_type": "markdown",
   "id": "2ed02449",
   "metadata": {},
   "source": [
    "# List and Dict\n",
    "- List (work as array)\n",
    "- dict  (key, value)\n",
    "- set (store dict value )"
   ]
  },
  {
   "cell_type": "code",
   "execution_count": 48,
   "id": "57c2949a",
   "metadata": {},
   "outputs": [
    {
     "name": "stdout",
     "output_type": "stream",
     "text": [
      "[50, 70, 60, 70, 90]\n",
      "<class 'list'>\n"
     ]
    }
   ],
   "source": [
    "marks = [50,70,60,70,90]\n",
    "print(marks)\n",
    "print(type(marks))"
   ]
  },
  {
   "cell_type": "code",
   "execution_count": 49,
   "id": "460cdf1e",
   "metadata": {},
   "outputs": [
    {
     "name": "stdout",
     "output_type": "stream",
     "text": [
      "[50, 70, 60, 70, 90]\n",
      "Marks Length:  5\n",
      "Marks Length:  4\n",
      "[50, 60, 70, 90]\n"
     ]
    }
   ],
   "source": [
    "print(marks)\n",
    "print(\"Marks Length: \",len(marks))\n",
    "marks.remove(70) # only remove 1-item as a time\n",
    "print(\"Marks Length: \",len(marks))\n",
    "print(marks)"
   ]
  },
  {
   "cell_type": "code",
   "execution_count": 50,
   "id": "fb03d133",
   "metadata": {},
   "outputs": [
    {
     "name": "stdout",
     "output_type": "stream",
     "text": [
      "[50, 60, 70, 90, 100]\n"
     ]
    }
   ],
   "source": [
    "marks.append(100)\n",
    "print(marks)"
   ]
  },
  {
   "cell_type": "code",
   "execution_count": 51,
   "id": "995b2a5d",
   "metadata": {},
   "outputs": [
    {
     "name": "stdout",
     "output_type": "stream",
     "text": [
      "[50, 60, 70, 90, 100, 'ths']\n"
     ]
    }
   ],
   "source": [
    "marks.append(\"ths\")\n",
    "print(marks)"
   ]
  },
  {
   "cell_type": "code",
   "execution_count": 54,
   "id": "55a572a0",
   "metadata": {},
   "outputs": [
    {
     "name": "stdout",
     "output_type": "stream",
     "text": [
      "{'eng': 68, 'math': 70, 'bio': 80}\n"
     ]
    }
   ],
   "source": [
    "myMark = {'eng' : 68, 'math':70,'bio':80}\n",
    "print(myMark)"
   ]
  },
  {
   "cell_type": "code",
   "execution_count": 57,
   "id": "469eb476",
   "metadata": {},
   "outputs": [
    {
     "name": "stdout",
     "output_type": "stream",
     "text": [
      "{'eng': 68, 'math': 70, 'bio': 80, 'Mya': 80}\n"
     ]
    }
   ],
   "source": [
    "myMark['Mya'] = 80 # if key name are the same, it will append\n",
    "print(myMark)"
   ]
  },
  {
   "cell_type": "code",
   "execution_count": 61,
   "id": "99b5a14b",
   "metadata": {},
   "outputs": [
    {
     "name": "stdout",
     "output_type": "stream",
     "text": [
      "<built-in method items of dict object at 0x7fad3865dcc0>\n",
      "dict_keys(['eng', 'math', 'bio', 'Mya'])\n"
     ]
    }
   ],
   "source": [
    "print(myMark.items)\n",
    "print(myMark.keys())"
   ]
  },
  {
   "cell_type": "code",
   "execution_count": null,
   "id": "a8f28add",
   "metadata": {},
   "outputs": [],
   "source": []
  },
  {
   "cell_type": "code",
   "execution_count": 65,
   "id": "ad94d951",
   "metadata": {},
   "outputs": [
    {
     "name": "stdout",
     "output_type": "stream",
     "text": [
      "{80, 90}\n"
     ]
    },
    {
     "ename": "TypeError",
     "evalue": "'set' object is not subscriptable",
     "output_type": "error",
     "traceback": [
      "\u001b[0;31m---------------------------------------------------------------------------\u001b[0m",
      "\u001b[0;31mTypeError\u001b[0m                                 Traceback (most recent call last)",
      "Input \u001b[0;32mIn [65]\u001b[0m, in \u001b[0;36m<cell line: 6>\u001b[0;34m()\u001b[0m\n\u001b[1;32m      4\u001b[0m mydata\u001b[38;5;241m.\u001b[39madd(\u001b[38;5;241m80\u001b[39m)\n\u001b[1;32m      5\u001b[0m \u001b[38;5;28mprint\u001b[39m(mydata)\n\u001b[0;32m----> 6\u001b[0m \u001b[38;5;28mprint\u001b[39m(\u001b[43mmydata\u001b[49m\u001b[43m[\u001b[49m\u001b[38;5;241;43m0\u001b[39;49m\u001b[43m]\u001b[49m)\n",
      "\u001b[0;31mTypeError\u001b[0m: 'set' object is not subscriptable"
     ]
    }
   ],
   "source": [
    "mydata = set()\n",
    "mydata.add(80)\n",
    "mydata.add(90)\n",
    "mydata.add(80)\n",
    "print(mydata)\n"
   ]
  },
  {
   "cell_type": "code",
   "execution_count": null,
   "id": "f1c42551",
   "metadata": {},
   "outputs": [],
   "source": []
  },
  {
   "cell_type": "markdown",
   "id": "e262bac3",
   "metadata": {},
   "source": [
    "# Looping\n",
    "- While loop\n",
    "- For Loop\n",
    "- For each Loop (mostly use)"
   ]
  },
  {
   "cell_type": "code",
   "execution_count": 1,
   "id": "44d79130",
   "metadata": {},
   "outputs": [
    {
     "name": "stdout",
     "output_type": "stream",
     "text": [
      "1\n",
      "2\n",
      "3\n"
     ]
    }
   ],
   "source": [
    "print(1)\n",
    "print(2)\n",
    "print(3)\n",
    "\n"
   ]
  },
  {
   "cell_type": "code",
   "execution_count": 27,
   "id": "f38c41c5",
   "metadata": {},
   "outputs": [],
   "source": [
    "index  = 1\n",
    "while index < 100:\n",
    "    #print(index)\n",
    "    index = index +1"
   ]
  },
  {
   "cell_type": "code",
   "execution_count": 34,
   "id": "6be2f311",
   "metadata": {},
   "outputs": [
    {
     "name": "stdout",
     "output_type": "stream",
     "text": [
      "0\n",
      "2\n",
      "4\n",
      "6\n",
      "8\n"
     ]
    }
   ],
   "source": [
    "for i in range(0,10,2):\n",
    "    print(i)"
   ]
  },
  {
   "cell_type": "code",
   "execution_count": 66,
   "id": "98787c23",
   "metadata": {},
   "outputs": [
    {
     "name": "stdout",
     "output_type": "stream",
     "text": [
      "50\n",
      "70\n",
      "60\n",
      "70\n",
      "90\n"
     ]
    }
   ],
   "source": [
    "marks = [50,70,60,70,90]\n",
    "for cur_mark in marks:\n",
    "    print(cur_mark)"
   ]
  },
  {
   "cell_type": "code",
   "execution_count": 68,
   "id": "98dcde7d",
   "metadata": {},
   "outputs": [
    {
     "name": "stdout",
     "output_type": "stream",
     "text": [
      "80\n",
      "90\n",
      "ths\n"
     ]
    }
   ],
   "source": [
    "mydata = set()\n",
    "mydata.add(80)\n",
    "mydata.add(90)\n",
    "mydata.add(80)\n",
    "mydata.add(\"ths\")\n",
    "for cur_mark in mydata:\n",
    "    print(cur_mark)"
   ]
  },
  {
   "cell_type": "code",
   "execution_count": 73,
   "id": "bee5fcd2",
   "metadata": {},
   "outputs": [
    {
     "name": "stdout",
     "output_type": "stream",
     "text": [
      "eng 68\n",
      "math 70\n",
      "bio 80\n"
     ]
    }
   ],
   "source": [
    "myMark = {'eng' : 68, 'math':70,'bio':80}\n",
    "for key in myMark:\n",
    "    print(key,myMark[key])"
   ]
  },
  {
   "cell_type": "code",
   "execution_count": 83,
   "id": "edc032fb",
   "metadata": {},
   "outputs": [
    {
     "name": "stdout",
     "output_type": "stream",
     "text": [
      "eng 68\n",
      "math 70\n",
      "bio 80\n"
     ]
    }
   ],
   "source": [
    "for key,value in myMark.items():\n",
    "    print(key,value)"
   ]
  },
  {
   "cell_type": "code",
   "execution_count": null,
   "id": "87b632be",
   "metadata": {},
   "outputs": [],
   "source": []
  }
 ],
 "metadata": {
  "kernelspec": {
   "display_name": "Python 3 (ipykernel)",
   "language": "python",
   "name": "python3"
  },
  "language_info": {
   "codemirror_mode": {
    "name": "ipython",
    "version": 3
   },
   "file_extension": ".py",
   "mimetype": "text/x-python",
   "name": "python",
   "nbconvert_exporter": "python",
   "pygments_lexer": "ipython3",
   "version": "3.10.4"
  }
 },
 "nbformat": 4,
 "nbformat_minor": 5
}
