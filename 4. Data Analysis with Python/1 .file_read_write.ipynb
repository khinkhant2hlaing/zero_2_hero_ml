{
 "cells": [
  {
   "cell_type": "code",
   "execution_count": 2,
   "id": "111fa666",
   "metadata": {},
   "outputs": [
    {
     "name": "stdout",
     "output_type": "stream",
     "text": [
      "['tharhtet\\n', 'kaungkaung\\n', 'ths\\n']\n",
      "<class 'list'>\n"
     ]
    }
   ],
   "source": [
    "names = \"names.txt\"\n",
    "with open(names,\"r\") as file:\n",
    "    file_data =file.readlines()\n",
    "print(file_data)\n",
    "print(type(file_data))"
   ]
  },
  {
   "cell_type": "code",
   "execution_count": 6,
   "id": "7f718c66",
   "metadata": {},
   "outputs": [],
   "source": [
    "with open(names,\"a\") as fileWrite:\n",
    "    fileWrite.writelines(\"ths\\n\")"
   ]
  },
  {
   "cell_type": "code",
   "execution_count": 4,
   "id": "ad439c5a",
   "metadata": {},
   "outputs": [],
   "source": [
    "with open(names,\"w\") as fileWrite:\n",
    "    fileWrite.writelines(\"AA\\n\")"
   ]
  },
  {
   "cell_type": "code",
   "execution_count": null,
   "id": "4feb42d5",
   "metadata": {},
   "outputs": [],
   "source": []
  },
  {
   "cell_type": "code",
   "execution_count": 33,
   "id": "abf14730",
   "metadata": {},
   "outputs": [],
   "source": [
    "class Car:\n",
    "    def __init__(self,license):\n",
    "        self.license = license\n",
    "        self.enginePower = 0\n",
    "        self.fileName= \"mycars.txt\"\n",
    "\n",
    "    def setEnginePower(self,enginePower):\n",
    "        self.enginePower= enginePower\n",
    "        \n",
    "    def WriteTofile(self):\n",
    "        write_str = self.license+\"\\t\"+str(self.enginePower)+\"\\n\"\n",
    "        \n",
    "        with open(self.fileName,\"a\") as fileWrite:\n",
    "            fileWrite.writelines(write_str)\n",
    "        "
   ]
  },
  {
   "cell_type": "code",
   "execution_count": 34,
   "id": "9d22c6bc",
   "metadata": {},
   "outputs": [],
   "source": [
    "class LightTruck(Car):\n",
    "    def __init__(self,license):\n",
    "        super().__init__(license)\n",
    "        super().setEnginePower(10)"
   ]
  },
  {
   "cell_type": "code",
   "execution_count": 35,
   "id": "65ac2b33",
   "metadata": {},
   "outputs": [],
   "source": [
    "class Crown(Car):\n",
    "    def __init__(self,license):\n",
    "        super().__init__(license)\n",
    "        super().setEnginePower(80)"
   ]
  },
  {
   "cell_type": "code",
   "execution_count": 36,
   "id": "17bcb69e",
   "metadata": {},
   "outputs": [],
   "source": [
    "car1 = LightTruck(\"0001\")\n",
    "car2 = Crown(\"0002\")"
   ]
  },
  {
   "cell_type": "code",
   "execution_count": 37,
   "id": "bdfdf72c",
   "metadata": {},
   "outputs": [],
   "source": [
    "car1.WriteTofile()"
   ]
  },
  {
   "cell_type": "code",
   "execution_count": 38,
   "id": "4b5e4bea",
   "metadata": {},
   "outputs": [],
   "source": [
    "car2.WriteTofile()"
   ]
  },
  {
   "cell_type": "code",
   "execution_count": null,
   "id": "9b1f2002",
   "metadata": {},
   "outputs": [],
   "source": []
  },
  {
   "cell_type": "code",
   "execution_count": null,
   "id": "a6196319",
   "metadata": {},
   "outputs": [],
   "source": []
  },
  {
   "cell_type": "code",
   "execution_count": null,
   "id": "0f3f4c06",
   "metadata": {},
   "outputs": [],
   "source": []
  },
  {
   "cell_type": "code",
   "execution_count": null,
   "id": "72e3956e",
   "metadata": {},
   "outputs": [],
   "source": []
  },
  {
   "cell_type": "code",
   "execution_count": 19,
   "id": "1f491567",
   "metadata": {},
   "outputs": [
    {
     "name": "stdout",
     "output_type": "stream",
     "text": [
      "Opened database successfully\n"
     ]
    }
   ],
   "source": [
    "import sqlite3\n",
    "\n",
    "conn = sqlite3.connect('test.db')\n",
    "print(\"Opened database successfully\");\n",
    "\n",
    "\n",
    "\n",
    "#conn.close()"
   ]
  },
  {
   "cell_type": "code",
   "execution_count": null,
   "id": "076fa3b7",
   "metadata": {},
   "outputs": [],
   "source": [
    "conn.execute('''CREATE TABLE COMPANY\n",
    "         (ID INT PRIMARY KEY     NOT NULL,\n",
    "         NAME           TEXT    NOT NULL,\n",
    "         AGE            INT     NOT NULL,\n",
    "         ADDRESS        CHAR(50),\n",
    "         SALARY         REAL);''')\n",
    "print (\"Table created successfully\")"
   ]
  },
  {
   "cell_type": "code",
   "execution_count": 23,
   "id": "a8b7d234",
   "metadata": {},
   "outputs": [],
   "source": [
    "conn.execute(\"INSERT INTO COMPANY (ID,NAME,AGE,ADDRESS,SALARY) \\\n",
    "      VALUES (1, 'Paul', 32, 'California', 20000.00 )\");\n",
    "\n",
    "conn.execute(\"INSERT INTO COMPANY (ID,NAME,AGE,ADDRESS,SALARY) \\\n",
    "      VALUES (2, 'Allen', 25, 'Texas', 15000.00 )\");\n",
    "\n",
    "conn.execute(\"INSERT INTO COMPANY (ID,NAME,AGE,ADDRESS,SALARY) \\\n",
    "      VALUES (3, 'Teddy', 23, 'Norway', 20000.00 )\");\n",
    "\n",
    "conn.execute(\"INSERT INTO COMPANY (ID,NAME,AGE,ADDRESS,SALARY) \\\n",
    "      VALUES (4, 'Mark', 25, 'Rich-Mond ', 65000.00 )\");"
   ]
  },
  {
   "cell_type": "code",
   "execution_count": 25,
   "id": "82df5bdd",
   "metadata": {},
   "outputs": [
    {
     "name": "stdout",
     "output_type": "stream",
     "text": [
      "ID =  4\n",
      "NAME =  Mark\n",
      "ADDRESS =  Rich-Mond \n",
      "SALARY =  65000.0 \n",
      "\n"
     ]
    }
   ],
   "source": [
    "cursor = conn.execute(\"SELECT id, name, address, salary from COMPANY where COMPANY.salary >20000\")\n",
    "for row in cursor:\n",
    "   print (\"ID = \", row[0])\n",
    "   print (\"NAME = \", row[1])\n",
    "   print (\"ADDRESS = \", row[2])\n",
    "   print (\"SALARY = \", row[3], \"\\n\")"
   ]
  },
  {
   "cell_type": "code",
   "execution_count": 26,
   "id": "162e3c80",
   "metadata": {},
   "outputs": [
    {
     "data": {
      "text/plain": [
       "<sqlite3.Cursor at 0x7f985b69d740>"
      ]
     },
     "execution_count": 26,
     "metadata": {},
     "output_type": "execute_result"
    }
   ],
   "source": [
    "\n",
    "cursor.execute(\"SELECT name FROM sqlite_master WHERE type='table';\")"
   ]
  },
  {
   "cell_type": "code",
   "execution_count": 27,
   "id": "bc12d479",
   "metadata": {},
   "outputs": [
    {
     "data": {
      "text/plain": [
       "<sqlite3.Cursor at 0x7f985b69d740>"
      ]
     },
     "execution_count": 27,
     "metadata": {},
     "output_type": "execute_result"
    }
   ],
   "source": [
    "cursor.execute(\"SELECT name FROM sqlite_master\")"
   ]
  },
  {
   "cell_type": "code",
   "execution_count": null,
   "id": "04bb4aa7",
   "metadata": {},
   "outputs": [],
   "source": []
  }
 ],
 "metadata": {
  "kernelspec": {
   "display_name": "Python 3 (ipykernel)",
   "language": "python",
   "name": "python3"
  },
  "language_info": {
   "codemirror_mode": {
    "name": "ipython",
    "version": 3
   },
   "file_extension": ".py",
   "mimetype": "text/x-python",
   "name": "python",
   "nbconvert_exporter": "python",
   "pygments_lexer": "ipython3",
   "version": "3.10.4"
  }
 },
 "nbformat": 4,
 "nbformat_minor": 5
}
