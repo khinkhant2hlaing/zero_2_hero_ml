{
 "cells": [
  {
   "cell_type": "code",
   "execution_count": 1,
   "id": "5aa4cf14",
   "metadata": {},
   "outputs": [],
   "source": [
    "import pandas as pd\n"
   ]
  },
  {
   "cell_type": "code",
   "execution_count": 2,
   "id": "60a0ca7a",
   "metadata": {},
   "outputs": [],
   "source": [
    "filename =\"item.xlsx\""
   ]
  },
  {
   "cell_type": "code",
   "execution_count": 3,
   "id": "ecc781dc",
   "metadata": {},
   "outputs": [],
   "source": [
    "df =None"
   ]
  },
  {
   "cell_type": "code",
   "execution_count": 4,
   "id": "febc7eff",
   "metadata": {},
   "outputs": [],
   "source": [
    "def readExcelFile(filename):\n",
    "    df = pd.read_excel(filename)\n",
    "    return df"
   ]
  },
  {
   "cell_type": "code",
   "execution_count": 5,
   "id": "01551179",
   "metadata": {},
   "outputs": [],
   "source": [
    "def writeExcelFile(filename,save_df):\n",
    "    save_df.to_excel(filename)"
   ]
  },
  {
   "cell_type": "code",
   "execution_count": 17,
   "id": "a053e6a3",
   "metadata": {},
   "outputs": [],
   "source": [
    "df =readExcelFile(filename)"
   ]
  },
  {
   "cell_type": "code",
   "execution_count": 24,
   "id": "4452b5dd",
   "metadata": {},
   "outputs": [
    {
     "name": "stdout",
     "output_type": "stream",
     "text": [
      "['ITM_1', 'ITM_2', 'ITM_3', 'ITM_5']\n"
     ]
    }
   ],
   "source": [
    "item_ids = df['item_id'].tolist()\n",
    "print(item_ids)"
   ]
  },
  {
   "cell_type": "code",
   "execution_count": 25,
   "id": "3454757d",
   "metadata": {},
   "outputs": [],
   "source": [
    "item_names = df['item_name'].tolist()\n",
    "buy_price = df['retail_price'].tolist()\n",
    "sale_price = df['sale_price'].tolist()\n",
    "categories = df['category'].tolist()"
   ]
  },
  {
   "cell_type": "code",
   "execution_count": 27,
   "id": "73948066",
   "metadata": {},
   "outputs": [],
   "source": [
    "item_ids.append(\"ITM_6\")\n",
    "item_names.append(\"Tiger\")\n",
    "buy_price.append(\"1500\")\n",
    "sale_price.append(\"1700\")\n",
    "categories.append(\"beer\")\n"
   ]
  },
  {
   "cell_type": "code",
   "execution_count": 28,
   "id": "eda86409",
   "metadata": {},
   "outputs": [
    {
     "data": {
      "text/plain": [
       "{'item_id': ['ITM_1', 'ITM_2', 'ITM_3', 'ITM_5', 'ITM_6'],\n",
       " 'item_name': ['super coffee',\n",
       "  'super coffee',\n",
       "  'super coffee',\n",
       "  'super coffee',\n",
       "  'Tiger'],\n",
       " 'retail_price': [3000, 3000, 3000, 3000, '1500'],\n",
       " 'sale_price': [3200, 3200, 3200, 3200, '1700'],\n",
       " 'category': ['coffee', 'coffee', 'coffee', 'coffee', 'beer']}"
      ]
     },
     "execution_count": 28,
     "metadata": {},
     "output_type": "execute_result"
    }
   ],
   "source": [
    "item_dict = {\"item_id\":item_ids,\n",
    "            \"item_name\":item_names,\n",
    "             \"retail_price\" : buy_price,\n",
    "             \"sale_price\":sale_price,\n",
    "             \"category\":categories\n",
    "            }\n",
    "item_dict"
   ]
  },
  {
   "cell_type": "code",
   "execution_count": 29,
   "id": "83f9eb6d",
   "metadata": {},
   "outputs": [],
   "source": [
    "new_df = pd.DataFrame(item_dict)"
   ]
  },
  {
   "cell_type": "code",
   "execution_count": 30,
   "id": "e21bfa76",
   "metadata": {},
   "outputs": [],
   "source": [
    "writeExcelFile(filename,new_df)"
   ]
  },
  {
   "cell_type": "code",
   "execution_count": null,
   "id": "952edd1a",
   "metadata": {},
   "outputs": [],
   "source": []
  },
  {
   "cell_type": "code",
   "execution_count": 6,
   "id": "54e6eafe",
   "metadata": {},
   "outputs": [
    {
     "data": {
      "text/html": [
       "<div>\n",
       "<style scoped>\n",
       "    .dataframe tbody tr th:only-of-type {\n",
       "        vertical-align: middle;\n",
       "    }\n",
       "\n",
       "    .dataframe tbody tr th {\n",
       "        vertical-align: top;\n",
       "    }\n",
       "\n",
       "    .dataframe thead th {\n",
       "        text-align: right;\n",
       "    }\n",
       "</style>\n",
       "<table border=\"1\" class=\"dataframe\">\n",
       "  <thead>\n",
       "    <tr style=\"text-align: right;\">\n",
       "      <th></th>\n",
       "      <th>Unnamed: 0</th>\n",
       "      <th>item_id</th>\n",
       "      <th>item_name</th>\n",
       "      <th>retail_price</th>\n",
       "      <th>sale_price</th>\n",
       "      <th>category</th>\n",
       "    </tr>\n",
       "  </thead>\n",
       "  <tbody>\n",
       "    <tr>\n",
       "      <th>0</th>\n",
       "      <td>0</td>\n",
       "      <td>ITM_1</td>\n",
       "      <td>ABC</td>\n",
       "      <td>600</td>\n",
       "      <td>800</td>\n",
       "      <td>beer</td>\n",
       "    </tr>\n",
       "    <tr>\n",
       "      <th>1</th>\n",
       "      <td>1</td>\n",
       "      <td>ITM_2</td>\n",
       "      <td>Tiger</td>\n",
       "      <td>1500</td>\n",
       "      <td>1700</td>\n",
       "      <td>beer</td>\n",
       "    </tr>\n",
       "    <tr>\n",
       "      <th>2</th>\n",
       "      <td>2</td>\n",
       "      <td>ITM_3</td>\n",
       "      <td>sunday</td>\n",
       "      <td>3500</td>\n",
       "      <td>3800</td>\n",
       "      <td>coffee</td>\n",
       "    </tr>\n",
       "    <tr>\n",
       "      <th>3</th>\n",
       "      <td>3</td>\n",
       "      <td>ITM_4</td>\n",
       "      <td>Nastle</td>\n",
       "      <td>4000</td>\n",
       "      <td>4300</td>\n",
       "      <td>coffee</td>\n",
       "    </tr>\n",
       "  </tbody>\n",
       "</table>\n",
       "</div>"
      ],
      "text/plain": [
       "   Unnamed: 0 item_id item_name  retail_price  sale_price category\n",
       "0           0   ITM_1       ABC           600         800     beer\n",
       "1           1   ITM_2     Tiger          1500        1700     beer\n",
       "2           2   ITM_3    sunday          3500        3800   coffee\n",
       "3           3   ITM_4    Nastle          4000        4300   coffee"
      ]
     },
     "execution_count": 6,
     "metadata": {},
     "output_type": "execute_result"
    }
   ],
   "source": [
    "df = readExcelFile(filename)\n",
    "df"
   ]
  },
  {
   "cell_type": "code",
   "execution_count": 13,
   "id": "0fe7d527",
   "metadata": {},
   "outputs": [
    {
     "name": "stdout",
     "output_type": "stream",
     "text": [
      "{'coffee': 0, 'beer': 0}\n"
     ]
    }
   ],
   "source": [
    "categories = df['category'].tolist()\n",
    "dist_cate = set(categories)\n",
    "\n",
    "categories_profic= {}\n",
    "for cur_cat in dist_cate:\n",
    "    categories_profic[cur_cat] = 0\n",
    "print(categories_profic)"
   ]
  },
  {
   "cell_type": "code",
   "execution_count": 14,
   "id": "ad4865f8",
   "metadata": {},
   "outputs": [
    {
     "name": "stdout",
     "output_type": "stream",
     "text": [
      "{'coffee': 600, 'beer': 400}\n"
     ]
    }
   ],
   "source": [
    "categories = df['category'].tolist()\n",
    "buy_price = df['retail_price'].tolist()\n",
    "sale_price = df['sale_price'].tolist()\n",
    "\n",
    "for buy,sale,cat in zip(buy_price,sale_price,categories):\n",
    "    \n",
    "    profic = int(sale)-int(buy)\n",
    "    categories_profic[cat] = profic+categories_profic[cat]\n",
    "print(categories_profic)"
   ]
  },
  {
   "cell_type": "code",
   "execution_count": 19,
   "id": "6df8dd64",
   "metadata": {},
   "outputs": [
    {
     "data": {
      "image/png": "[encoded data removed]",
      "text/plain": [
       "<Figure size 432x288 with 1 Axes>"
      ]
     },
     "metadata": {
      "needs_background": "light"
     },
     "output_type": "display_data"
    }
   ],
   "source": [
    "import matplotlib.pyplot as plt\n",
    "cat_name = list(categories_profic.keys())\n",
    "profic = list(categories_profic.values())\n",
    "plt.bar(cat_name,profic)\n",
    "plt.savefig('profic_per_cat.png')"
   ]
  },
  {
   "cell_type": "code",
   "execution_count": 1,
   "id": "5ddb244d",
   "metadata": {},
   "outputs": [
    {
     "data": {
      "text/plain": [
       "datetime.datetime(2022, 7, 9, 14, 26, 24, 36724)"
      ]
     },
     "execution_count": 1,
     "metadata": {},
     "output_type": "execute_result"
    }
   ],
   "source": [
    "import datetime\n",
    " \n",
    "# using now() to get current time\n",
    "current_time = datetime.datetime.now()\n",
    "current_time"
   ]
  },
  {
   "cell_type": "code",
   "execution_count": 4,
   "id": "d2639990",
   "metadata": {},
   "outputs": [
    {
     "name": "stdout",
     "output_type": "stream",
     "text": [
      "7\\9\\2022-14:26\n"
     ]
    }
   ],
   "source": [
    "_date  = str(current_time.month)+\"\\\\\"+str(current_time.day)+\"\\\\\"+str(current_time.year)+\"-\"+str(current_time.hour)+\":\"+str(current_time.minute)\n",
    "print(_date)"
   ]
  },
  {
   "cell_type": "code",
   "execution_count": null,
   "id": "a481e6cd",
   "metadata": {},
   "outputs": [],
   "source": []
  }
 ],
 "metadata": {
  "kernelspec": {
   "display_name": "Python 3 (ipykernel)",
   "language": "python",
   "name": "python3"
  },
  "language_info": {
   "codemirror_mode": {
    "name": "ipython",
    "version": 3
   },
   "file_extension": ".py",
   "mimetype": "text/x-python",
   "name": "python",
   "nbconvert_exporter": "python",
   "pygments_lexer": "ipython3",
   "version": "3.10.4"
  }
 },
 "nbformat": 4,
 "nbformat_minor": 5
}
