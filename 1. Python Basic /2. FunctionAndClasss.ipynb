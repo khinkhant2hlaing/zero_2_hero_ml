{
 "cells": [
  {
   "cell_type": "markdown",
   "id": "7eef8a75",
   "metadata": {},
   "source": [
    "### Function\n",
    "- function name must verb \n",
    "- Args must be in nouns"
   ]
  },
  {
   "cell_type": "code",
   "execution_count": 8,
   "id": "4fa0cc32",
   "metadata": {},
   "outputs": [],
   "source": [
    "def addTwoNumber(num1,num2):\n",
    "    total = num1+num2\n",
    "    return (total)"
   ]
  },
  {
   "cell_type": "code",
   "execution_count": 10,
   "id": "782aec4b",
   "metadata": {},
   "outputs": [
    {
     "name": "stdout",
     "output_type": "stream",
     "text": [
      "50\n"
     ]
    }
   ],
   "source": [
    "num1 = 30\n",
    "num2 = 20\n",
    "print(addTwoNumber(num1, num2))"
   ]
  },
  {
   "cell_type": "markdown",
   "id": "1d9da1a4",
   "metadata": {},
   "source": [
    "### Normal Function"
   ]
  },
  {
   "cell_type": "code",
   "execution_count": 22,
   "id": "36be45d9",
   "metadata": {},
   "outputs": [],
   "source": [
    "def calReturnAmount(initAmount, rate, numOfDays):\n",
    "    \n",
    "    payRollAmount = initAmount\n",
    "    for i in range(1,numOfDays+1,1):\n",
    "        increateRate =  (rate/100)*payRollAmount\n",
    "        out_str = \"Increate Rate of \"+str(i)+\"-month: \"+str(increateRate)\n",
    "        payRollAmount = increateRate+payRollAmount\n",
    "           \n",
    "    return int(payRollAmount)\n",
    "        "
   ]
  },
  {
   "cell_type": "code",
   "execution_count": 24,
   "id": "62d6ff18",
   "metadata": {},
   "outputs": [
    {
     "data": {
      "text/plain": [
       "325778"
      ]
     },
     "execution_count": 24,
     "metadata": {},
     "output_type": "execute_result"
    }
   ],
   "source": [
    "initAmount = 200000\n",
    "rate = 5\n",
    "numOfDays = 10\n",
    "calReturnAmount(initAmount, rate, numOfDays)"
   ]
  },
  {
   "cell_type": "code",
   "execution_count": 27,
   "id": "7f770b2e",
   "metadata": {},
   "outputs": [],
   "source": [
    "def calReturnAmountRecord(initAmount, rate, numOfDays):\n",
    "    \n",
    "\n",
    "    pay_list = {}\n",
    "    payRollAmount = initAmount\n",
    "    for i in range(1,numOfDays+1,1):\n",
    "        increateRate =  (rate/100)*payRollAmount\n",
    "        out_str = \"Increate Rate of \"+str(i)+\"-month: \"+str(increateRate)\n",
    "        payRollAmount = increateRate+payRollAmount\n",
    "        key = str(i)+\"-month\"\n",
    "        pay_list[key] = int(payRollAmount)\n",
    "    \n",
    "    return pay_list\n",
    "        "
   ]
  },
  {
   "cell_type": "code",
   "execution_count": 69,
   "id": "748783e7",
   "metadata": {},
   "outputs": [
    {
     "name": "stdout",
     "output_type": "stream",
     "text": [
      "1-month 1100\n",
      "2-month 1210\n",
      "3-month 1331\n",
      "4-month 1464\n",
      "5-month 1610\n"
     ]
    }
   ],
   "source": [
    "initAmount = 1000\n",
    "rate = 10\n",
    "numOfDays = 5\n",
    "for key,value in calReturnAmountRecord(initAmount, rate, numOfDays).items():\n",
    "    print(key, value)"
   ]
  },
  {
   "cell_type": "code",
   "execution_count": 43,
   "id": "36fd8763",
   "metadata": {},
   "outputs": [],
   "source": [
    "def calFibio(key):\n",
    "    result = 1\n",
    "    index = key\n",
    "    while index > 0:\n",
    "        result = result * index\n",
    "        index = index -1\n",
    "        \n",
    "    return result"
   ]
  },
  {
   "cell_type": "code",
   "execution_count": 56,
   "id": "f3990c60",
   "metadata": {},
   "outputs": [
    {
     "name": "stdout",
     "output_type": "stream",
     "text": [
      "120\n"
     ]
    }
   ],
   "source": [
    "result = calFibio(5)\n",
    "print(result)"
   ]
  },
  {
   "cell_type": "code",
   "execution_count": null,
   "id": "f4660e90",
   "metadata": {},
   "outputs": [],
   "source": []
  },
  {
   "cell_type": "code",
   "execution_count": null,
   "id": "6e46e05d",
   "metadata": {},
   "outputs": [],
   "source": []
  },
  {
   "cell_type": "code",
   "execution_count": null,
   "id": "028e1b81",
   "metadata": {},
   "outputs": [],
   "source": []
  },
  {
   "cell_type": "markdown",
   "id": "cb691ed8",
   "metadata": {},
   "source": [
    "### Function with Recusion\n",
    "3\n",
    "3, 2,1 = 6\n",
    "\n",
    "4\n",
    "4,3,2,1=24\n",
    "\n",
    "5\n",
    "5,4,3,2,1,=120\n",
    "\n",
    "\n",
    "4 * ->6 = 24\n",
    "    3 * ->2 = 6\n",
    "        2 * -> 1 = 2\n",
    "            1"
   ]
  },
  {
   "cell_type": "code",
   "execution_count": 70,
   "id": "3f1bd909",
   "metadata": {},
   "outputs": [],
   "source": [
    "def calFibio_1(key):\n",
    "    \n",
    "    if key < 1:\n",
    "        return 1\n",
    "    else:\n",
    "        return key*calFibio_1(key-1)\n",
    "    \n",
    "    \n"
   ]
  },
  {
   "cell_type": "code",
   "execution_count": 71,
   "id": "2ca68a93",
   "metadata": {},
   "outputs": [
    {
     "name": "stdout",
     "output_type": "stream",
     "text": [
      "24\n"
     ]
    }
   ],
   "source": [
    "result = calFibio_1(4)\n",
    "print(result)"
   ]
  },
  {
   "cell_type": "code",
   "execution_count": 72,
   "id": "c9080291",
   "metadata": {},
   "outputs": [],
   "source": [
    "def calReturnAmountRecord_1(initAmount, rate, numOfDays):\n",
    "    if numOfDays < 1:\n",
    "        return int(initAmount)\n",
    "    else:\n",
    "        payRollAmount = initAmount\n",
    "        increateRate =  (rate/100)*payRollAmount\n",
    "        payRollAmount = increateRate+payRollAmount\n",
    "        numOfDays =  numOfDays - 1\n",
    "        return calReturnAmountRecord_1(payRollAmount, rate, numOfDays)"
   ]
  },
  {
   "cell_type": "code",
   "execution_count": 68,
   "id": "ca9c1913",
   "metadata": {},
   "outputs": [
    {
     "data": {
      "text/plain": [
       "1610"
      ]
     },
     "execution_count": 68,
     "metadata": {},
     "output_type": "execute_result"
    }
   ],
   "source": [
    "initAmount = 1000\n",
    "rate = 10\n",
    "numOfDays = 5\n",
    "calReturnAmountRecord_1(initAmount, rate, numOfDays)"
   ]
  },
  {
   "cell_type": "markdown",
   "id": "470a12de",
   "metadata": {},
   "source": [
    "### Function with Args type define"
   ]
  },
  {
   "cell_type": "code",
   "execution_count": 91,
   "id": "4ab4871e",
   "metadata": {},
   "outputs": [],
   "source": [
    "def addTwoNum(num1:int,num2:int):\n",
    "    return num1+num2\n"
   ]
  },
  {
   "cell_type": "code",
   "execution_count": 94,
   "id": "ddb03caf",
   "metadata": {},
   "outputs": [
    {
     "name": "stdout",
     "output_type": "stream",
     "text": [
      "5\n",
      "<class 'int'>\n"
     ]
    }
   ],
   "source": [
    "result = addTwoNum(3,2)\n",
    "print(result)\n",
    "print(type(result))"
   ]
  },
  {
   "cell_type": "code",
   "execution_count": null,
   "id": "b1c87fbd",
   "metadata": {},
   "outputs": [],
   "source": []
  },
  {
   "cell_type": "markdown",
   "id": "39d6d2dc",
   "metadata": {},
   "source": [
    "## Class"
   ]
  },
  {
   "cell_type": "code",
   "execution_count": 163,
   "id": "58c59fbb",
   "metadata": {},
   "outputs": [],
   "source": [
    "class Parent():\n",
    "    def __init__(self,father_name,mother_name):\n",
    "        self.father_name = father_name\n",
    "        self.mother_name =mother_name"
   ]
  },
  {
   "cell_type": "code",
   "execution_count": 164,
   "id": "dd1c8638",
   "metadata": {},
   "outputs": [],
   "source": [
    "class Student:\n",
    "    def __init__(self,stu_id,stu_name,mark_dict):\n",
    "        self.stu_id= stu_id\n",
    "        self.stu_name = stu_name\n",
    "        self.mark_dict = mark_dict\n",
    "        self.parent = None\n",
    "        \n",
    "    def addParent(self,fname,mname):\n",
    "        self.parent = Parent(fname,mname)\n",
    "    \n",
    "    def addMark(self,sub_name,mark):\n",
    "        self.mark_dict[sub_name] = mark\n",
    "        \n",
    "        \n",
    "    def isPassExam(self):\n",
    "        fail_subject = {}\n",
    "        isPass = True\n",
    "        for key,value in self.mark_dict.items():\n",
    "            if value >= 40:\n",
    "                continue\n",
    "            else:\n",
    "                fail_subject[key] = value\n",
    "                isPass = False\n",
    "                \n",
    "            \n",
    "        return fail_subject,isPass"
   ]
  },
  {
   "cell_type": "code",
   "execution_count": 172,
   "id": "3d932185",
   "metadata": {},
   "outputs": [],
   "source": [
    "stu_1 = Student(1,'aung aung',{})\n",
    "stu_1.addParent('U Aung','Daw Cho')\n",
    "\n",
    "stu_2 = Student(2,'mg mg',{})\n",
    "stu_2.addParent('U Ba','Daw Aye')\n",
    "\n",
    "\n",
    "stu_3 = Student(3,'mg aye',{})\n",
    "stu_3.addParent('U Cho','Daw Mya')"
   ]
  },
  {
   "cell_type": "code",
   "execution_count": 173,
   "id": "7c49eaf1",
   "metadata": {},
   "outputs": [],
   "source": [
    "stu_1.addMark('eng',44)\n",
    "stu_1.addMark('math',64)\n",
    "stu_1.addMark('bio',50)\n",
    "stu_1.addMark('mya',50)"
   ]
  },
  {
   "cell_type": "code",
   "execution_count": 174,
   "id": "8e4aa13e",
   "metadata": {},
   "outputs": [],
   "source": [
    "stu_2.addMark('eng',60)\n",
    "stu_2.addMark('math',80)\n",
    "stu_2.addMark('bio',65)\n",
    "stu_2.addMark('mya',40)\n"
   ]
  },
  {
   "cell_type": "code",
   "execution_count": 175,
   "id": "d151b9e6",
   "metadata": {},
   "outputs": [],
   "source": [
    "stu_3.addMark('eng',60)\n",
    "stu_3.addMark('math',77)\n",
    "stu_3.addMark('bio',25)\n",
    "stu_3.addMark('mya',50)\n"
   ]
  },
  {
   "cell_type": "code",
   "execution_count": 176,
   "id": "e4b09173",
   "metadata": {},
   "outputs": [],
   "source": [
    "student_db = [stu_1,stu_2,stu_3]"
   ]
  },
  {
   "cell_type": "code",
   "execution_count": 177,
   "id": "832e9bbe",
   "metadata": {},
   "outputs": [],
   "source": [
    "def check_exam(student_list):\n",
    "    for stu in student_list:\n",
    "        fial_sub, isPass = stu.isPassExam()\n",
    "        if not isPass:\n",
    "            stu_data = str(stu.stu_id)+\"\\t\"+stu.stu_name\n",
    "            parent = stu.parent.father_name +\" + \"+stu.parent.mother_name\n",
    "            \n",
    "            print(parent)\n",
    "            print(stu_data)\n",
    "            print(fial_sub)\n",
    "            print()"
   ]
  },
  {
   "cell_type": "code",
   "execution_count": 178,
   "id": "71b8864c",
   "metadata": {},
   "outputs": [
    {
     "name": "stdout",
     "output_type": "stream",
     "text": [
      "U Cho + Daw Mya\n",
      "3\tmg aye\n",
      "{'bio': 25}\n",
      "\n"
     ]
    }
   ],
   "source": [
    "check_exam(student_db)"
   ]
  },
  {
   "cell_type": "code",
   "execution_count": null,
   "id": "376d0090",
   "metadata": {},
   "outputs": [],
   "source": []
  },
  {
   "cell_type": "code",
   "execution_count": null,
   "id": "36b9de04",
   "metadata": {},
   "outputs": [],
   "source": []
  }
 ],
 "metadata": {
  "kernelspec": {
   "display_name": "Python 3 (ipykernel)",
   "language": "python",
   "name": "python3"
  },
  "language_info": {
   "codemirror_mode": {
    "name": "ipython",
    "version": 3
   },
   "file_extension": ".py",
   "mimetype": "text/x-python",
   "name": "python",
   "nbconvert_exporter": "python",
   "pygments_lexer": "ipython3",
   "version": "3.10.4"
  }
 },
 "nbformat": 4,
 "nbformat_minor": 5
}
